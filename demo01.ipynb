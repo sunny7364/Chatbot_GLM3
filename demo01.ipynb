{
 "cells": [
  {
   "cell_type": "markdown",
   "metadata": {},
   "source": [
    "## Prompt ChatGLM3\n",
    "#### [·] to classify whether a question belongs to medical topic."
   ]
  },
  {
   "cell_type": "code",
   "execution_count": 4,
   "metadata": {},
   "outputs": [
    {
     "name": "stderr",
     "output_type": "stream",
     "text": [
      "Setting eos_token is not supported, use the default one.\n",
      "Setting pad_token is not supported, use the default one.\n",
      "Setting unk_token is not supported, use the default one.\n"
     ]
    },
    {
     "data": {
      "application/vnd.jupyter.widget-view+json": {
       "model_id": "8652f755865846e5b083777d9bb18f78",
       "version_major": 2,
       "version_minor": 0
      },
      "text/plain": [
       "Loading checkpoint shards:   0%|          | 0/7 [00:00<?, ?it/s]"
      ]
     },
     "metadata": {},
     "output_type": "display_data"
    }
   ],
   "source": [
    "import random\n",
    "from tqdm import tqdm\n",
    "from transformers import AutoTokenizer, AutoModel\n",
    "import pandas as pd\n",
    "\n",
    "tokenizer = AutoTokenizer.from_pretrained(\"ChatGLM3\", trust_remote_code=True)\n",
    "model = AutoModel.from_pretrained(\"ChatGLM3\", trust_remote_code=True).half().cuda()\n",
    "model = model.eval()"
   ]
  },
  {
   "cell_type": "code",
   "execution_count": 16,
   "metadata": {},
   "outputs": [],
   "source": [
    "questions = [\"今天星期几？\",\n",
    "             \"夏天适合去哪里旅游？\",\n",
    "             \"肚子好痛啊！该吃什么药？\",\n",
    "             \"湿气重怎么办？\",\n",
    "             \"上火有什么办法吗？\",\n",
    "             \"一觉醒来着凉了！\",\n",
    "             \"感冒怎么治？\",\n",
    "             \"感冒药还有库存吗？\",\n",
    "             \"你们店里有什么药？\",\n",
    "             \"高血压会遗传吗？\",\n",
    "             \"脾胃虚是因为肝火旺吗？\"]"
   ]
  },
  {
   "cell_type": "code",
   "execution_count": 53,
   "metadata": {},
   "outputs": [],
   "source": [
    "def prompt(question):\n",
    "    return f\"请判断下列提问是否有关病症、医药、药物、治疗中的任何一类，如果是请回答1，否则请回答0，问题如下：{question}\" "
   ]
  },
  {
   "cell_type": "code",
   "execution_count": 33,
   "metadata": {},
   "outputs": [
    {
     "name": "stdout",
     "output_type": "stream",
     "text": [
      "Response: False Ask: 今天星期几？\n",
      "Response: 这个问题与病症、医药、药物、治疗中的任何一类无关，所以我的回答是False。 Ask: 夏天适合去哪里旅游？\n",
      "Response: True。 Ask: 肚子好痛啊！该吃什么药？\n",
      "Response: True Ask: 湿气重怎么办？\n",
      "Response: True Ask: 上火有什么办法吗？\n",
      "Response: False Ask: 一觉醒来着凉了！\n",
      "Response: True Ask: 感冒怎么治？\n",
      "Response: True Ask: 感冒药还有库存吗？\n",
      "Response: True Ask: 你们店里有什么药？\n",
      "Response: True Ask: 高血压会遗传吗？\n",
      "Response: False Ask: 脾胃虚是因为肝火旺吗？\n"
     ]
    }
   ],
   "source": [
    "for q in questions:\n",
    "    response, history = model.chat(tokenizer, prompt(q), history=[])\n",
    "    print(\"Response:\",response,\"Ask:\",q)"
   ]
  },
  {
   "cell_type": "code",
   "execution_count": 34,
   "metadata": {},
   "outputs": [
    {
     "data": {
      "text/html": [
       "<div>\n",
       "<style scoped>\n",
       "    .dataframe tbody tr th:only-of-type {\n",
       "        vertical-align: middle;\n",
       "    }\n",
       "\n",
       "    .dataframe tbody tr th {\n",
       "        vertical-align: top;\n",
       "    }\n",
       "\n",
       "    .dataframe thead th {\n",
       "        text-align: right;\n",
       "    }\n",
       "</style>\n",
       "<table border=\"1\" class=\"dataframe\">\n",
       "  <thead>\n",
       "    <tr style=\"text-align: right;\">\n",
       "      <th></th>\n",
       "      <th>problem</th>\n",
       "      <th>label</th>\n",
       "    </tr>\n",
       "  </thead>\n",
       "  <tbody>\n",
       "    <tr>\n",
       "      <th>0</th>\n",
       "      <td>老师，为什么用scanf函数时，如果写成scanf(\"%d\\n\",a),按回车后就没有结果出来呢？</td>\n",
       "      <td>0</td>\n",
       "    </tr>\n",
       "    <tr>\n",
       "      <th>1</th>\n",
       "      <td>老师，vc6++下载发现有病毒。能解决一下吗？</td>\n",
       "      <td>0</td>\n",
       "    </tr>\n",
       "    <tr>\n",
       "      <th>2</th>\n",
       "      <td>1）既然无参数宏定义是用标识符来代表字符串的，符号常量也是用标识符命名常量，这两个有什么区别...</td>\n",
       "      <td>0</td>\n",
       "    </tr>\n",
       "    <tr>\n",
       "      <th>3</th>\n",
       "      <td>胡老师，你好，我在学习过程中遇到几个问题，想要清教你一下。\\n第一，关于void。课本上说v...</td>\n",
       "      <td>0</td>\n",
       "    </tr>\n",
       "    <tr>\n",
       "      <th>4</th>\n",
       "      <td>该程序打印学生课程成绩并且计算学生平均成绩和课程平均成绩\\n但成绩显示，但为什么不显示平均成...</td>\n",
       "      <td>0</td>\n",
       "    </tr>\n",
       "    <tr>\n",
       "      <th>...</th>\n",
       "      <td>...</td>\n",
       "      <td>...</td>\n",
       "    </tr>\n",
       "    <tr>\n",
       "      <th>39995</th>\n",
       "      <td>怀孕试纸可以测出来吗？如果怀孕在月经推迟一个星期之内也可以测出的吧</td>\n",
       "      <td>1</td>\n",
       "    </tr>\n",
       "    <tr>\n",
       "      <th>39996</th>\n",
       "      <td>发热在每天下午开始高热后来低热检查过一些常规检查都检查了没有查出问题有什么好的地方看</td>\n",
       "      <td>1</td>\n",
       "    </tr>\n",
       "    <tr>\n",
       "      <th>39997</th>\n",
       "      <td>哦，这样子的呀，那先谢谢了，到时我就担心服完药一周后还没来月经，然后我再去检查还说没有怀孕那...</td>\n",
       "      <td>1</td>\n",
       "    </tr>\n",
       "    <tr>\n",
       "      <th>39998</th>\n",
       "      <td>前一段时间胃病，好像是胃炎，胃胀痛，恶心，呕吐，现在症状好了，出现了嘴苦，是不是胃热引起的，怎么办</td>\n",
       "      <td>1</td>\n",
       "    </tr>\n",
       "    <tr>\n",
       "      <th>39999</th>\n",
       "      <td>左手母指多了一个手指，有骨头的，跟别的手指是一样的，能手术吗？</td>\n",
       "      <td>1</td>\n",
       "    </tr>\n",
       "  </tbody>\n",
       "</table>\n",
       "<p>40000 rows × 2 columns</p>\n",
       "</div>"
      ],
      "text/plain": [
       "                                                 problem  label\n",
       "0      老师，为什么用scanf函数时，如果写成scanf(\"%d\\n\",a),按回车后就没有结果出来呢？      0\n",
       "1                                老师，vc6++下载发现有病毒。能解决一下吗？      0\n",
       "2      1）既然无参数宏定义是用标识符来代表字符串的，符号常量也是用标识符命名常量，这两个有什么区别...      0\n",
       "3      胡老师，你好，我在学习过程中遇到几个问题，想要清教你一下。\\n第一，关于void。课本上说v...      0\n",
       "4      该程序打印学生课程成绩并且计算学生平均成绩和课程平均成绩\\n但成绩显示，但为什么不显示平均成...      0\n",
       "...                                                  ...    ...\n",
       "39995                  怀孕试纸可以测出来吗？如果怀孕在月经推迟一个星期之内也可以测出的吧      1\n",
       "39996         发热在每天下午开始高热后来低热检查过一些常规检查都检查了没有查出问题有什么好的地方看      1\n",
       "39997  哦，这样子的呀，那先谢谢了，到时我就担心服完药一周后还没来月经，然后我再去检查还说没有怀孕那...      1\n",
       "39998  前一段时间胃病，好像是胃炎，胃胀痛，恶心，呕吐，现在症状好了，出现了嘴苦，是不是胃热引起的，怎么办      1\n",
       "39999                    左手母指多了一个手指，有骨头的，跟别的手指是一样的，能手术吗？      1\n",
       "\n",
       "[40000 rows x 2 columns]"
      ]
     },
     "execution_count": 34,
     "metadata": {},
     "output_type": "execute_result"
    }
   ],
   "source": [
    "data = pd.read_csv(\"data_0_1_final.csv\")\n",
    "data"
   ]
  },
  {
   "cell_type": "code",
   "execution_count": 62,
   "metadata": {},
   "outputs": [
    {
     "name": "stderr",
     "output_type": "stream",
     "text": [
      "100it [00:12,  8.30it/s]"
     ]
    },
    {
     "name": "stdout",
     "output_type": "stream",
     "text": [
      "Accuracy: 0.84\n"
     ]
    },
    {
     "name": "stderr",
     "output_type": "stream",
     "text": [
      "\n"
     ]
    }
   ],
   "source": [
    "sample = data.sample(frac=0.0025)\n",
    "correct = 0\n",
    "\n",
    "for idx,row in tqdm(sample.iterrows()):\n",
    "    q = row[\"problem\"]\n",
    "    response, history = model.chat(tokenizer, prompt(row[\"problem\"]), history=[])\n",
    "    try:\n",
    "        if int(response[0]) == row[\"label\"]:\n",
    "            correct += 1\n",
    "        else:\n",
    "            pass\n",
    "    except:\n",
    "        print(response)\n",
    "        print(type(response))\n",
    "        print(row[\"label\"])\n",
    "        print(type(row[\"label\"]))\n",
    "print(\"Accuracy:\",correct/len(sample))"
   ]
  }
 ],
 "metadata": {
  "kernelspec": {
   "display_name": "ARIN7102",
   "language": "python",
   "name": "python3"
  },
  "language_info": {
   "codemirror_mode": {
    "name": "ipython",
    "version": 3
   },
   "file_extension": ".py",
   "mimetype": "text/x-python",
   "name": "python",
   "nbconvert_exporter": "python",
   "pygments_lexer": "ipython3",
   "version": "3.9.19"
  }
 },
 "nbformat": 4,
 "nbformat_minor": 2
}
